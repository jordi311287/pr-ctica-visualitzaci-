{
 "cells": [
  {
   "cell_type": "code",
   "execution_count": 278,
   "id": "adad0cc8-165f-451e-aab0-bd9465d6b3b7",
   "metadata": {},
   "outputs": [],
   "source": [
    "import pandas as pd\n",
    "import numpy as np\n",
    "import matplotlib.pyplot as plt\n",
    "\n",
    "pd.set_option('mode.chained_assignment', None)"
   ]
  },
  {
   "cell_type": "code",
   "execution_count": 279,
   "id": "f69ccbf1-f54c-46be-9bb8-2c0de5d09c95",
   "metadata": {},
   "outputs": [],
   "source": [
    "df = pd.read_csv('SPACE_wide_2022.csv')"
   ]
  },
  {
   "cell_type": "code",
   "execution_count": 280,
   "id": "fd2335e6-4810-4916-b661-a9cf68ba4714",
   "metadata": {},
   "outputs": [
    {
     "name": "stdout",
     "output_type": "stream",
     "text": [
      "<class 'pandas.core.frame.DataFrame'>\n",
      "RangeIndex: 39766 entries, 0 to 39765\n",
      "Columns: 224 entries, ID to D3_MT\n",
      "dtypes: float64(175), int64(47), object(2)\n",
      "memory usage: 68.0+ MB\n"
     ]
    }
   ],
   "source": [
    "df.info()"
   ]
  },
  {
   "cell_type": "code",
   "execution_count": 281,
   "id": "cbbc5018-6add-4ac5-9d8f-404e36815b46",
   "metadata": {},
   "outputs": [],
   "source": [
    "# Pagament amb el mòbil POS\n",
    "df_mobile_2 = df[(df['QA7AII_1'] == 3) | (df['QA7AII_2'] == 3) | (df['QA7AII_3'] == 3) | (df['QA7AII_4'] == 3) | (df['QA7AII_5'] == 3) | (df['QA7AII_6'] == 3) | (df['QA7AII_7'] == 3) | (df['QA7AII_8'] == 3)]"
   ]
  },
  {
   "cell_type": "code",
   "execution_count": 282,
   "id": "f5a4c2e9-5842-4fce-84e0-7efc06432f9c",
   "metadata": {},
   "outputs": [],
   "source": [
    "# Pagament amb el mòbil POS\n",
    "df_mobile = df[(df['QA7A_1'] == 3) | (df['QA7A_2'] == 3) | (df['QA7A_3'] == 3) | (df['QA7A_4'] == 3) | (df['QA7A_5'] == 3) | (df['QA7A_6'] == 3) | (df['QA7A_7'] == 3) | (df['QA7A_8'] == 3)]"
   ]
  },
  {
   "cell_type": "code",
   "execution_count": 283,
   "id": "97cc4910-16d0-42bb-b72f-ebc7ce68d10b",
   "metadata": {},
   "outputs": [
    {
     "data": {
      "text/html": [
       "<div>\n",
       "<style scoped>\n",
       "    .dataframe tbody tr th:only-of-type {\n",
       "        vertical-align: middle;\n",
       "    }\n",
       "\n",
       "    .dataframe tbody tr th {\n",
       "        vertical-align: top;\n",
       "    }\n",
       "\n",
       "    .dataframe thead th {\n",
       "        text-align: right;\n",
       "    }\n",
       "</style>\n",
       "<table border=\"1\" class=\"dataframe\">\n",
       "  <thead>\n",
       "    <tr style=\"text-align: right;\">\n",
       "      <th></th>\n",
       "      <th>QA7AII_1</th>\n",
       "      <th>QA7AII_2</th>\n",
       "      <th>QA7AII_3</th>\n",
       "      <th>QA7AII_4</th>\n",
       "      <th>QA7AII_5</th>\n",
       "      <th>QA7AII_6</th>\n",
       "      <th>QA7AII_7</th>\n",
       "      <th>QA7AII_8</th>\n",
       "    </tr>\n",
       "  </thead>\n",
       "  <tbody>\n",
       "    <tr>\n",
       "      <th>18</th>\n",
       "      <td>2.0</td>\n",
       "      <td>2.0</td>\n",
       "      <td>NaN</td>\n",
       "      <td>NaN</td>\n",
       "      <td>NaN</td>\n",
       "      <td>NaN</td>\n",
       "      <td>NaN</td>\n",
       "      <td>NaN</td>\n",
       "    </tr>\n",
       "    <tr>\n",
       "      <th>25</th>\n",
       "      <td>NaN</td>\n",
       "      <td>NaN</td>\n",
       "      <td>NaN</td>\n",
       "      <td>NaN</td>\n",
       "      <td>1.0</td>\n",
       "      <td>NaN</td>\n",
       "      <td>NaN</td>\n",
       "      <td>NaN</td>\n",
       "    </tr>\n",
       "    <tr>\n",
       "      <th>86</th>\n",
       "      <td>NaN</td>\n",
       "      <td>2.0</td>\n",
       "      <td>NaN</td>\n",
       "      <td>NaN</td>\n",
       "      <td>NaN</td>\n",
       "      <td>NaN</td>\n",
       "      <td>NaN</td>\n",
       "      <td>NaN</td>\n",
       "    </tr>\n",
       "    <tr>\n",
       "      <th>102</th>\n",
       "      <td>NaN</td>\n",
       "      <td>2.0</td>\n",
       "      <td>NaN</td>\n",
       "      <td>NaN</td>\n",
       "      <td>NaN</td>\n",
       "      <td>NaN</td>\n",
       "      <td>NaN</td>\n",
       "      <td>NaN</td>\n",
       "    </tr>\n",
       "    <tr>\n",
       "      <th>157</th>\n",
       "      <td>2.0</td>\n",
       "      <td>NaN</td>\n",
       "      <td>NaN</td>\n",
       "      <td>NaN</td>\n",
       "      <td>NaN</td>\n",
       "      <td>NaN</td>\n",
       "      <td>NaN</td>\n",
       "      <td>NaN</td>\n",
       "    </tr>\n",
       "    <tr>\n",
       "      <th>...</th>\n",
       "      <td>...</td>\n",
       "      <td>...</td>\n",
       "      <td>...</td>\n",
       "      <td>...</td>\n",
       "      <td>...</td>\n",
       "      <td>...</td>\n",
       "      <td>...</td>\n",
       "      <td>...</td>\n",
       "    </tr>\n",
       "    <tr>\n",
       "      <th>39654</th>\n",
       "      <td>NaN</td>\n",
       "      <td>1.0</td>\n",
       "      <td>NaN</td>\n",
       "      <td>NaN</td>\n",
       "      <td>NaN</td>\n",
       "      <td>NaN</td>\n",
       "      <td>NaN</td>\n",
       "      <td>NaN</td>\n",
       "    </tr>\n",
       "    <tr>\n",
       "      <th>39677</th>\n",
       "      <td>2.0</td>\n",
       "      <td>2.0</td>\n",
       "      <td>2.0</td>\n",
       "      <td>NaN</td>\n",
       "      <td>NaN</td>\n",
       "      <td>NaN</td>\n",
       "      <td>NaN</td>\n",
       "      <td>NaN</td>\n",
       "    </tr>\n",
       "    <tr>\n",
       "      <th>39704</th>\n",
       "      <td>2.0</td>\n",
       "      <td>NaN</td>\n",
       "      <td>NaN</td>\n",
       "      <td>NaN</td>\n",
       "      <td>NaN</td>\n",
       "      <td>NaN</td>\n",
       "      <td>NaN</td>\n",
       "      <td>NaN</td>\n",
       "    </tr>\n",
       "    <tr>\n",
       "      <th>39721</th>\n",
       "      <td>NaN</td>\n",
       "      <td>1.0</td>\n",
       "      <td>NaN</td>\n",
       "      <td>NaN</td>\n",
       "      <td>NaN</td>\n",
       "      <td>NaN</td>\n",
       "      <td>NaN</td>\n",
       "      <td>NaN</td>\n",
       "    </tr>\n",
       "    <tr>\n",
       "      <th>39726</th>\n",
       "      <td>1.0</td>\n",
       "      <td>NaN</td>\n",
       "      <td>NaN</td>\n",
       "      <td>NaN</td>\n",
       "      <td>NaN</td>\n",
       "      <td>NaN</td>\n",
       "      <td>NaN</td>\n",
       "      <td>NaN</td>\n",
       "    </tr>\n",
       "  </tbody>\n",
       "</table>\n",
       "<p>2091 rows × 8 columns</p>\n",
       "</div>"
      ],
      "text/plain": [
       "       QA7AII_1  QA7AII_2  QA7AII_3  QA7AII_4  QA7AII_5  QA7AII_6  QA7AII_7  \\\n",
       "18          2.0       2.0       NaN       NaN       NaN       NaN       NaN   \n",
       "25          NaN       NaN       NaN       NaN       1.0       NaN       NaN   \n",
       "86          NaN       2.0       NaN       NaN       NaN       NaN       NaN   \n",
       "102         NaN       2.0       NaN       NaN       NaN       NaN       NaN   \n",
       "157         2.0       NaN       NaN       NaN       NaN       NaN       NaN   \n",
       "...         ...       ...       ...       ...       ...       ...       ...   \n",
       "39654       NaN       1.0       NaN       NaN       NaN       NaN       NaN   \n",
       "39677       2.0       2.0       2.0       NaN       NaN       NaN       NaN   \n",
       "39704       2.0       NaN       NaN       NaN       NaN       NaN       NaN   \n",
       "39721       NaN       1.0       NaN       NaN       NaN       NaN       NaN   \n",
       "39726       1.0       NaN       NaN       NaN       NaN       NaN       NaN   \n",
       "\n",
       "       QA7AII_8  \n",
       "18          NaN  \n",
       "25          NaN  \n",
       "86          NaN  \n",
       "102         NaN  \n",
       "157         NaN  \n",
       "...         ...  \n",
       "39654       NaN  \n",
       "39677       NaN  \n",
       "39704       NaN  \n",
       "39721       NaN  \n",
       "39726       NaN  \n",
       "\n",
       "[2091 rows x 8 columns]"
      ]
     },
     "execution_count": 283,
     "metadata": {},
     "output_type": "execute_result"
    }
   ],
   "source": [
    "# Tipus d'aplicació utilitzada per pagar amb el mòbil\n",
    "df_mobile[['QA7AII_1', 'QA7AII_2', 'QA7AII_3', 'QA7AII_4', 'QA7AII_5', 'QA7AII_6', 'QA7AII_7', 'QA7AII_8']]"
   ]
  },
  {
   "cell_type": "code",
   "execution_count": 284,
   "id": "6922f318-481c-444f-8754-3fb2e22a397e",
   "metadata": {},
   "outputs": [],
   "source": [
    "# Create a column with the first available mobile payment application\n",
    "df_mobile.loc[:, 'mobile_payment_app'] = df_mobile[['QA7AII_1', 'QA7AII_2', 'QA7AII_3', 'QA7AII_4', 'QA7AII_5', 'QA7AII_6', 'QA7AII_7', 'QA7AII_8']].fillna(0).astype(int).astype(str).replace('0', '').agg(','.join, axis=1).str.extract(r'([0-9]{1,2})')[0]\n",
    "df.loc[:, 'mobile_payment_app'] = df[['QA7AII_1', 'QA7AII_2', 'QA7AII_3', 'QA7AII_4', 'QA7AII_5', 'QA7AII_6', 'QA7AII_7', 'QA7AII_8']].fillna(0).astype(int).astype(str).replace('0', '').agg(','.join, axis=1).str.extract(r'([0-9]{1,2})')[0]"
   ]
  },
  {
   "cell_type": "code",
   "execution_count": 285,
   "id": "50eb306c-af5b-4ca7-b1d3-be4f0775073f",
   "metadata": {},
   "outputs": [],
   "source": [
    "# Map the payment application\n",
    "mobile_payments_dict = {'3': 'GooglePay',\n",
    "                        '1': \"bank's mobile application\",\n",
    "                        '2': 'ApplePay',\n",
    "                        '30': 'Android Pay',\n",
    "                        '4': 'Other',\n",
    "                        '20': 'Samsung Pay',\n",
    "                        '40': 'i-bank Pay'}\n",
    "\n",
    "df_mobile['mobile_payment_app'] = df_mobile['mobile_payment_app'].replace(mobile_payments_dict)\n",
    "df['mobile_payment_app'] = df['mobile_payment_app'].replace(mobile_payments_dict)"
   ]
  },
  {
   "cell_type": "code",
   "execution_count": 286,
   "id": "8a2d2290-4709-4604-9bc2-e353abfd1393",
   "metadata": {},
   "outputs": [
    {
     "data": {
      "text/plain": [
       "<Axes: ylabel='count'>"
      ]
     },
     "execution_count": 286,
     "metadata": {},
     "output_type": "execute_result"
    },
    {
     "data": {
      "image/png": "[encoded data removed]",
      "text/plain": [
       "<Figure size 640x480 with 1 Axes>"
      ]
     },
     "metadata": {},
     "output_type": "display_data"
    }
   ],
   "source": [
    "# Graph Mobile Payments by Application\n",
    "df_mobile['mobile_payment_app'].value_counts().plot.pie(autopct='%1.1f%%')"
   ]
  },
  {
   "cell_type": "code",
   "execution_count": 287,
   "id": "7f40e6d7-6cf8-48e3-9b41-970d24f7c0e1",
   "metadata": {},
   "outputs": [
    {
     "data": {
      "text/plain": [
       "mobile_payment_app\n",
       "bank's mobile application    603\n",
       "ApplePay                     474\n",
       "GooglePay                    331\n",
       "Other                        217\n",
       "17                            87\n",
       "14                            82\n",
       "22                            36\n",
       "Samsung Pay                   33\n",
       "24                            32\n",
       "5                             30\n",
       "11                            30\n",
       "29                            21\n",
       "9                             18\n",
       "18                            14\n",
       "43                             8\n",
       "31                             7\n",
       "13                             7\n",
       "37                             6\n",
       "42                             6\n",
       "Android Pay                    6\n",
       "i-bank Pay                     5\n",
       "12                             5\n",
       "99                             4\n",
       "6                              4\n",
       "25                             4\n",
       "36                             3\n",
       "28                             3\n",
       "27                             3\n",
       "19                             3\n",
       "34                             2\n",
       "33                             2\n",
       "15                             1\n",
       "23                             1\n",
       "26                             1\n",
       "38                             1\n",
       "16                             1\n",
       "Name: count, dtype: int64"
      ]
     },
     "execution_count": 287,
     "metadata": {},
     "output_type": "execute_result"
    }
   ],
   "source": [
    "df_mobile['mobile_payment_app'].value_counts()"
   ]
  },
  {
   "cell_type": "markdown",
   "id": "280eca7a-3835-4fd0-af37-4c379a622737",
   "metadata": {},
   "source": [
    "Most of the users paying in the POS uses GooglePay.\n",
    "Possible questions:\n",
    "- Where are they from?"
   ]
  },
  {
   "cell_type": "code",
   "execution_count": 288,
   "id": "633ac475-bbeb-4d5f-bf03-e2cbdc08b906",
   "metadata": {},
   "outputs": [],
   "source": [
    "QQ3A_dict = {1: 'Card (debit, credit)',\n",
    "            2: 'Mobile payments (including wearables like smartwatches)',\n",
    "            3: 'Bank cheque',\n",
    "            999999: \"Don't know\",\n",
    "            0: \"No answer\"}\n",
    "\n",
    "df['QQ3A'] = df['QQ3A'].fillna(0).astype(int).replace(QQ3A_dict)"
   ]
  },
  {
   "cell_type": "code",
   "execution_count": 289,
   "id": "13fc121d-dece-46bb-acf4-29820bda757a",
   "metadata": {},
   "outputs": [
    {
     "data": {
      "text/plain": [
       "<Axes: ylabel='count'>"
      ]
     },
     "execution_count": 289,
     "metadata": {},
     "output_type": "execute_result"
    },
    {
     "data": {
      "image/png": "[encoded data removed]",
      "text/plain": [
       "<Figure size 640x480 with 1 Axes>"
      ]
     },
     "metadata": {},
     "output_type": "display_data"
    }
   ],
   "source": [
    "df['QQ3A'].value_counts().plot.pie(autopct='%1.1f%%')"
   ]
  },
  {
   "cell_type": "markdown",
   "id": "88304b08-5115-45c0-936a-5b4acf370387",
   "metadata": {},
   "source": [
    "Almost 10% of users would like to use Mobile payments.\n",
    "\n",
    "- How Many users actually pay with Mobile payments?"
   ]
  },
  {
   "cell_type": "code",
   "execution_count": 290,
   "id": "86b297a2-0908-4ef4-9bcf-548d1313b8a6",
   "metadata": {},
   "outputs": [
    {
     "data": {
      "text/plain": [
       "QQ3A\n",
       "Card (debit, credit)                                       0.704496\n",
       "No answer                                                  0.187095\n",
       "Mobile payments (including wearables like smartwatches)    0.098250\n",
       "Bank cheque                                                0.005910\n",
       "Don't know                                                 0.004250\n",
       "Name: count, dtype: float64"
      ]
     },
     "execution_count": 290,
     "metadata": {},
     "output_type": "execute_result"
    }
   ],
   "source": [
    "df['QQ3A'].value_counts() / df['QQ3A'].value_counts().sum()"
   ]
  },
  {
   "cell_type": "code",
   "execution_count": 291,
   "id": "c44c8c30-70c1-4127-8d98-810816653d7e",
   "metadata": {},
   "outputs": [
    {
     "name": "stdout",
     "output_type": "stream",
     "text": [
      "<class 'pandas.core.series.Series'>\n",
      "Index: 2091 entries, 18 to 39726\n",
      "Series name: mobile_payment_app\n",
      "Non-Null Count  Dtype \n",
      "--------------  ----- \n",
      "2091 non-null   object\n",
      "dtypes: object(1)\n",
      "memory usage: 32.7+ KB\n"
     ]
    }
   ],
   "source": [
    "df_mobile['mobile_payment_app'].info()"
   ]
  },
  {
   "cell_type": "markdown",
   "id": "2822ea04-b7ec-42dd-a5fa-bc95bb7eef7f",
   "metadata": {},
   "source": [
    "335 out of 3907 users that wanted to pay by Mobile Applications did it in a POS.\n",
    "That is less than 10% of them.\n",
    "It means there is a 90% of users who would like to use Mobile Applications but don't.\n",
    "\n",
    "- Where are the users that used Mobile Applications from?\n",
    "- Where are the users that wanted to use Mobile Applications from?"
   ]
  },
  {
   "cell_type": "code",
   "execution_count": 292,
   "id": "101f1d1c-af6e-4001-833f-4bd5e70f9054",
   "metadata": {},
   "outputs": [
    {
     "data": {
      "text/plain": [
       "<Axes: xlabel='COUNTRY'>"
      ]
     },
     "execution_count": 292,
     "metadata": {},
     "output_type": "execute_result"
    },
    {
     "data": {
      "image/png": "[encoded data removed]",
      "text/plain": [
       "<Figure size 640x480 with 1 Axes>"
      ]
     },
     "metadata": {},
     "output_type": "display_data"
    }
   ],
   "source": [
    "df_mobile['COUNTRY'].value_counts().plot.bar()"
   ]
  },
  {
   "cell_type": "code",
   "execution_count": 293,
   "id": "26b4893e-fe1c-4351-823e-b033f6e6b182",
   "metadata": {},
   "outputs": [
    {
     "data": {
      "text/plain": [
       "<Axes: xlabel='COUNTRY'>"
      ]
     },
     "execution_count": 293,
     "metadata": {},
     "output_type": "execute_result"
    },
    {
     "data": {
      "image/png": "[encoded data removed]",
      "text/plain": [
       "<Figure size 640x480 with 1 Axes>"
      ]
     },
     "metadata": {},
     "output_type": "display_data"
    }
   ],
   "source": [
    "df[df['QQ3A'] == \"Mobile payments (including wearables like smartwatches)\"][\"COUNTRY\"].value_counts().plot.bar()"
   ]
  },
  {
   "cell_type": "code",
   "execution_count": 294,
   "id": "d16af2fe-8e97-42ee-8bc9-357ad49b8afc",
   "metadata": {},
   "outputs": [
    {
     "data": {
      "text/html": [
       "<div>\n",
       "<style scoped>\n",
       "    .dataframe tbody tr th:only-of-type {\n",
       "        vertical-align: middle;\n",
       "    }\n",
       "\n",
       "    .dataframe tbody tr th {\n",
       "        vertical-align: top;\n",
       "    }\n",
       "\n",
       "    .dataframe thead th {\n",
       "        text-align: right;\n",
       "    }\n",
       "</style>\n",
       "<table border=\"1\" class=\"dataframe\">\n",
       "  <thead>\n",
       "    <tr style=\"text-align: right;\">\n",
       "      <th></th>\n",
       "      <th>Used Mobile Applications</th>\n",
       "      <th>Want to use Mobile Applications</th>\n",
       "    </tr>\n",
       "    <tr>\n",
       "      <th>COUNTRY</th>\n",
       "      <th></th>\n",
       "      <th></th>\n",
       "    </tr>\n",
       "  </thead>\n",
       "  <tbody>\n",
       "    <tr>\n",
       "      <th>ES</th>\n",
       "      <td>290</td>\n",
       "      <td>565</td>\n",
       "    </tr>\n",
       "    <tr>\n",
       "      <th>FR</th>\n",
       "      <td>183</td>\n",
       "      <td>405</td>\n",
       "    </tr>\n",
       "    <tr>\n",
       "      <th>IT</th>\n",
       "      <td>163</td>\n",
       "      <td>370</td>\n",
       "    </tr>\n",
       "    <tr>\n",
       "      <th>SK</th>\n",
       "      <td>150</td>\n",
       "      <td>327</td>\n",
       "    </tr>\n",
       "    <tr>\n",
       "      <th>IE</th>\n",
       "      <td>147</td>\n",
       "      <td>260</td>\n",
       "    </tr>\n",
       "    <tr>\n",
       "      <th>FI</th>\n",
       "      <td>243</td>\n",
       "      <td>236</td>\n",
       "    </tr>\n",
       "    <tr>\n",
       "      <th>BE</th>\n",
       "      <td>170</td>\n",
       "      <td>222</td>\n",
       "    </tr>\n",
       "    <tr>\n",
       "      <th>PT</th>\n",
       "      <td>118</td>\n",
       "      <td>195</td>\n",
       "    </tr>\n",
       "    <tr>\n",
       "      <th>GR</th>\n",
       "      <td>61</td>\n",
       "      <td>190</td>\n",
       "    </tr>\n",
       "    <tr>\n",
       "      <th>EE</th>\n",
       "      <td>91</td>\n",
       "      <td>176</td>\n",
       "    </tr>\n",
       "    <tr>\n",
       "      <th>AT</th>\n",
       "      <td>75</td>\n",
       "      <td>175</td>\n",
       "    </tr>\n",
       "    <tr>\n",
       "      <th>MT</th>\n",
       "      <td>56</td>\n",
       "      <td>157</td>\n",
       "    </tr>\n",
       "    <tr>\n",
       "      <th>LV</th>\n",
       "      <td>78</td>\n",
       "      <td>150</td>\n",
       "    </tr>\n",
       "    <tr>\n",
       "      <th>LT</th>\n",
       "      <td>83</td>\n",
       "      <td>149</td>\n",
       "    </tr>\n",
       "    <tr>\n",
       "      <th>CY</th>\n",
       "      <td>63</td>\n",
       "      <td>149</td>\n",
       "    </tr>\n",
       "    <tr>\n",
       "      <th>LU</th>\n",
       "      <td>99</td>\n",
       "      <td>115</td>\n",
       "    </tr>\n",
       "    <tr>\n",
       "      <th>SI</th>\n",
       "      <td>21</td>\n",
       "      <td>66</td>\n",
       "    </tr>\n",
       "  </tbody>\n",
       "</table>\n",
       "</div>"
      ],
      "text/plain": [
       "         Used Mobile Applications  Want to use Mobile Applications\n",
       "COUNTRY                                                           \n",
       "ES                            290                              565\n",
       "FR                            183                              405\n",
       "IT                            163                              370\n",
       "SK                            150                              327\n",
       "IE                            147                              260\n",
       "FI                            243                              236\n",
       "BE                            170                              222\n",
       "PT                            118                              195\n",
       "GR                             61                              190\n",
       "EE                             91                              176\n",
       "AT                             75                              175\n",
       "MT                             56                              157\n",
       "LV                             78                              150\n",
       "LT                             83                              149\n",
       "CY                             63                              149\n",
       "LU                             99                              115\n",
       "SI                             21                               66"
      ]
     },
     "execution_count": 294,
     "metadata": {},
     "output_type": "execute_result"
    }
   ],
   "source": [
    "df_mobile_per_country = pd.concat([df_mobile['COUNTRY'].value_counts(), df[df['QQ3A'] == \"Mobile payments (including wearables like smartwatches)\"][\"COUNTRY\"].value_counts()], axis=1, )\n",
    "df_mobile_per_country.columns = ['Used Mobile Applications', 'Want to use Mobile Applications']\n",
    "df_mobile_per_country.sort_values('Want to use Mobile Applications', ascending=False)"
   ]
  },
  {
   "cell_type": "code",
   "execution_count": 295,
   "id": "d7cbadc8-4f1d-43ca-8791-e31cbbda3f3f",
   "metadata": {},
   "outputs": [
    {
     "data": {
      "text/html": [
       "<div>\n",
       "<style scoped>\n",
       "    .dataframe tbody tr th:only-of-type {\n",
       "        vertical-align: middle;\n",
       "    }\n",
       "\n",
       "    .dataframe tbody tr th {\n",
       "        vertical-align: top;\n",
       "    }\n",
       "\n",
       "    .dataframe thead th {\n",
       "        text-align: right;\n",
       "    }\n",
       "</style>\n",
       "<table border=\"1\" class=\"dataframe\">\n",
       "  <thead>\n",
       "    <tr style=\"text-align: right;\">\n",
       "      <th></th>\n",
       "      <th>Used Mobile Applications</th>\n",
       "      <th>Total users</th>\n",
       "      <th>Percentage</th>\n",
       "    </tr>\n",
       "    <tr>\n",
       "      <th>COUNTRY</th>\n",
       "      <th></th>\n",
       "      <th></th>\n",
       "      <th></th>\n",
       "    </tr>\n",
       "  </thead>\n",
       "  <tbody>\n",
       "    <tr>\n",
       "      <th>ES</th>\n",
       "      <td>290</td>\n",
       "      <td>4492</td>\n",
       "      <td>6.455922</td>\n",
       "    </tr>\n",
       "    <tr>\n",
       "      <th>FI</th>\n",
       "      <td>243</td>\n",
       "      <td>3024</td>\n",
       "      <td>8.035714</td>\n",
       "    </tr>\n",
       "    <tr>\n",
       "      <th>FR</th>\n",
       "      <td>183</td>\n",
       "      <td>6078</td>\n",
       "      <td>3.010859</td>\n",
       "    </tr>\n",
       "    <tr>\n",
       "      <th>BE</th>\n",
       "      <td>170</td>\n",
       "      <td>2975</td>\n",
       "      <td>5.714286</td>\n",
       "    </tr>\n",
       "    <tr>\n",
       "      <th>IT</th>\n",
       "      <td>163</td>\n",
       "      <td>4483</td>\n",
       "      <td>3.635958</td>\n",
       "    </tr>\n",
       "    <tr>\n",
       "      <th>SK</th>\n",
       "      <td>150</td>\n",
       "      <td>2435</td>\n",
       "      <td>6.160164</td>\n",
       "    </tr>\n",
       "    <tr>\n",
       "      <th>IE</th>\n",
       "      <td>147</td>\n",
       "      <td>1937</td>\n",
       "      <td>7.589055</td>\n",
       "    </tr>\n",
       "    <tr>\n",
       "      <th>PT</th>\n",
       "      <td>118</td>\n",
       "      <td>1988</td>\n",
       "      <td>5.935614</td>\n",
       "    </tr>\n",
       "    <tr>\n",
       "      <th>LU</th>\n",
       "      <td>99</td>\n",
       "      <td>1006</td>\n",
       "      <td>9.840954</td>\n",
       "    </tr>\n",
       "    <tr>\n",
       "      <th>EE</th>\n",
       "      <td>91</td>\n",
       "      <td>1506</td>\n",
       "      <td>6.042497</td>\n",
       "    </tr>\n",
       "    <tr>\n",
       "      <th>LT</th>\n",
       "      <td>83</td>\n",
       "      <td>1498</td>\n",
       "      <td>5.540721</td>\n",
       "    </tr>\n",
       "    <tr>\n",
       "      <th>LV</th>\n",
       "      <td>78</td>\n",
       "      <td>988</td>\n",
       "      <td>7.894737</td>\n",
       "    </tr>\n",
       "    <tr>\n",
       "      <th>AT</th>\n",
       "      <td>75</td>\n",
       "      <td>2487</td>\n",
       "      <td>3.015682</td>\n",
       "    </tr>\n",
       "    <tr>\n",
       "      <th>CY</th>\n",
       "      <td>63</td>\n",
       "      <td>1016</td>\n",
       "      <td>6.200787</td>\n",
       "    </tr>\n",
       "    <tr>\n",
       "      <th>GR</th>\n",
       "      <td>61</td>\n",
       "      <td>1869</td>\n",
       "      <td>3.263777</td>\n",
       "    </tr>\n",
       "    <tr>\n",
       "      <th>MT</th>\n",
       "      <td>56</td>\n",
       "      <td>994</td>\n",
       "      <td>5.633803</td>\n",
       "    </tr>\n",
       "    <tr>\n",
       "      <th>SI</th>\n",
       "      <td>21</td>\n",
       "      <td>990</td>\n",
       "      <td>2.121212</td>\n",
       "    </tr>\n",
       "  </tbody>\n",
       "</table>\n",
       "</div>"
      ],
      "text/plain": [
       "         Used Mobile Applications  Total users  Percentage\n",
       "COUNTRY                                                   \n",
       "ES                            290         4492    6.455922\n",
       "FI                            243         3024    8.035714\n",
       "FR                            183         6078    3.010859\n",
       "BE                            170         2975    5.714286\n",
       "IT                            163         4483    3.635958\n",
       "SK                            150         2435    6.160164\n",
       "IE                            147         1937    7.589055\n",
       "PT                            118         1988    5.935614\n",
       "LU                             99         1006    9.840954\n",
       "EE                             91         1506    6.042497\n",
       "LT                             83         1498    5.540721\n",
       "LV                             78          988    7.894737\n",
       "AT                             75         2487    3.015682\n",
       "CY                             63         1016    6.200787\n",
       "GR                             61         1869    3.263777\n",
       "MT                             56          994    5.633803\n",
       "SI                             21          990    2.121212"
      ]
     },
     "execution_count": 295,
     "metadata": {},
     "output_type": "execute_result"
    }
   ],
   "source": [
    "df_mobile_per_country = pd.concat([df_mobile['COUNTRY'].value_counts(), df[\"COUNTRY\"].value_counts()], axis=1, )\n",
    "df_mobile_per_country.columns = ['Used Mobile Applications', 'Total users']\n",
    "df_mobile_per_country['Percentage'] = (df_mobile_per_country['Used Mobile Applications'] / df_mobile_per_country['Total users']) * 100\n",
    "df_mobile_per_country.sort_values('Used Mobile Applications', ascending=False)"
   ]
  },
  {
   "cell_type": "markdown",
   "id": "72017d41-e9a4-4025-b9f5-fe3e8ae59882",
   "metadata": {},
   "source": [
    "Show the users that want to use mobile applications vs users that used it. To see the market opportunities.\n",
    "Thise could be done with a line chart connecting both."
   ]
  },
  {
   "cell_type": "code",
   "execution_count": 296,
   "id": "e2197e50-7a0a-4db0-928f-4452b4d35055",
   "metadata": {},
   "outputs": [
    {
     "data": {
      "text/plain": [
       "<Axes: xlabel='COUNTRY'>"
      ]
     },
     "execution_count": 296,
     "metadata": {},
     "output_type": "execute_result"
    },
    {
     "data": {
      "image/png": "[encoded data removed]",
      "text/plain": [
       "<Figure size 1000x600 with 1 Axes>"
      ]
     },
     "metadata": {},
     "output_type": "display_data"
    }
   ],
   "source": [
    "# What users want to pay with per country\n",
    "cross_tab_prop = pd.crosstab(index=df['COUNTRY'],\n",
    "                             columns=df['QQ3A'],\n",
    "                             normalize=\"index\").sort_values('Mobile payments (including wearables like smartwatches)', ascending=False)\n",
    "cross_tab_prop.plot(kind='bar', \n",
    "                    stacked=True, \n",
    "                    colormap='tab10', \n",
    "                    figsize=(10, 6))"
   ]
  },
  {
   "cell_type": "markdown",
   "id": "e0176da1-2db0-480b-82d9-340d1ddfee2b",
   "metadata": {},
   "source": [
    "TODO:\n",
    "- Investigate by Gender, Age, Education, Urban area."
   ]
  },
  {
   "cell_type": "code",
   "execution_count": 297,
   "id": "e7dba50d-3c69-4ca0-aca2-e6fe119376d7",
   "metadata": {},
   "outputs": [
    {
     "data": {
      "text/plain": [
       "<Axes: xlabel='AGE_MAP'>"
      ]
     },
     "execution_count": 297,
     "metadata": {},
     "output_type": "execute_result"
    },
    {
     "data": {
      "image/png": "[encoded data removed]",
      "text/plain": [
       "<Figure size 640x480 with 1 Axes>"
      ]
     },
     "metadata": {},
     "output_type": "display_data"
    }
   ],
   "source": [
    "df[df['QQ3A'] == \"Mobile payments (including wearables like smartwatches)\"][\"AGE\"]\n",
    "age_map = {1: \"18-24\",\n",
    "    2: \"25-29\",\n",
    "    3: \"30-34\",\n",
    "    4: \"35-39\",\n",
    "    5: \"40-44\",\n",
    "    6: \"45-49\",\n",
    "    7: \"50-54\",\n",
    "    8: \"55-59\",\n",
    "    9: \"60-64\",\n",
    "    10: \"64-69\",\n",
    "    11: \"70-74\",\n",
    "    12: \"75+\"}\n",
    "\n",
    "df['AGE_MAP'] = df['AGE'].replace(age_map)\n",
    "df[df['QQ3A'] == \"Mobile payments (including wearables like smartwatches)\"][\"AGE_MAP\"].value_counts().sort_index().plot.bar()"
   ]
  },
  {
   "cell_type": "code",
   "execution_count": 298,
   "id": "76fe7e05-745b-46b8-af09-104da42e665e",
   "metadata": {},
   "outputs": [
    {
     "data": {
      "text/plain": [
       "AGE_MAP\n",
       "18-24    614\n",
       "25-29    327\n",
       "30-34    467\n",
       "35-39    528\n",
       "40-44    372\n",
       "45-49    357\n",
       "50-54    286\n",
       "55-59    270\n",
       "60-64    207\n",
       "64-69    265\n",
       "70-74    162\n",
       "75+       52\n",
       "Name: count, dtype: int64"
      ]
     },
     "execution_count": 298,
     "metadata": {},
     "output_type": "execute_result"
    }
   ],
   "source": [
    "df[df['QQ3A'] == \"Mobile payments (including wearables like smartwatches)\"][\"AGE_MAP\"].value_counts().sort_index()"
   ]
  },
  {
   "cell_type": "code",
   "execution_count": 299,
   "id": "14dc743b-2dc5-43f9-9c1c-50d61e5a2eb5",
   "metadata": {},
   "outputs": [
    {
     "data": {
      "text/plain": [
       "<Axes: xlabel='AGE_MAP'>"
      ]
     },
     "execution_count": 299,
     "metadata": {},
     "output_type": "execute_result"
    },
    {
     "data": {
      "image/png": "[encoded data removed]",
      "text/plain": [
       "<Figure size 640x480 with 1 Axes>"
      ]
     },
     "metadata": {},
     "output_type": "display_data"
    }
   ],
   "source": [
    "age_map = {1: \"18-24\",\n",
    "    2: \"25-29\",\n",
    "    3: \"30-34\",\n",
    "    4: \"35-39\",\n",
    "    5: \"40-44\",\n",
    "    6: \"45-49\",\n",
    "    7: \"50-54\",\n",
    "    8: \"55-59\",\n",
    "    9: \"60-64\",\n",
    "    10: \"64-69\",\n",
    "    11: \"70-74\",\n",
    "    12: \"75+\"}\n",
    "\n",
    "df_mobile['AGE_MAP'] = df_mobile['AGE'].replace(age_map)\n",
    "df_mobile[\"AGE_MAP\"].value_counts().sort_index().plot.bar()"
   ]
  },
  {
   "cell_type": "code",
   "execution_count": 300,
   "id": "039bb784-b2b3-4d5d-8e14-a13d9b357761",
   "metadata": {},
   "outputs": [
    {
     "data": {
      "text/html": [
       "<div>\n",
       "<style scoped>\n",
       "    .dataframe tbody tr th:only-of-type {\n",
       "        vertical-align: middle;\n",
       "    }\n",
       "\n",
       "    .dataframe tbody tr th {\n",
       "        vertical-align: top;\n",
       "    }\n",
       "\n",
       "    .dataframe thead th {\n",
       "        text-align: right;\n",
       "    }\n",
       "</style>\n",
       "<table border=\"1\" class=\"dataframe\">\n",
       "  <thead>\n",
       "    <tr style=\"text-align: right;\">\n",
       "      <th></th>\n",
       "      <th>Used Mobile Applications</th>\n",
       "      <th>Total Users</th>\n",
       "      <th>Percentage</th>\n",
       "    </tr>\n",
       "    <tr>\n",
       "      <th>AGE_MAP</th>\n",
       "      <th></th>\n",
       "      <th></th>\n",
       "      <th></th>\n",
       "    </tr>\n",
       "  </thead>\n",
       "  <tbody>\n",
       "    <tr>\n",
       "      <th>18-24</th>\n",
       "      <td>317</td>\n",
       "      <td>3648</td>\n",
       "      <td>8.689693</td>\n",
       "    </tr>\n",
       "    <tr>\n",
       "      <th>25-29</th>\n",
       "      <td>205</td>\n",
       "      <td>2379</td>\n",
       "      <td>8.617066</td>\n",
       "    </tr>\n",
       "    <tr>\n",
       "      <th>30-34</th>\n",
       "      <td>234</td>\n",
       "      <td>3165</td>\n",
       "      <td>7.393365</td>\n",
       "    </tr>\n",
       "    <tr>\n",
       "      <th>35-39</th>\n",
       "      <td>269</td>\n",
       "      <td>4139</td>\n",
       "      <td>6.499154</td>\n",
       "    </tr>\n",
       "    <tr>\n",
       "      <th>40-44</th>\n",
       "      <td>225</td>\n",
       "      <td>3312</td>\n",
       "      <td>6.793478</td>\n",
       "    </tr>\n",
       "    <tr>\n",
       "      <th>45-49</th>\n",
       "      <td>202</td>\n",
       "      <td>3579</td>\n",
       "      <td>5.644035</td>\n",
       "    </tr>\n",
       "    <tr>\n",
       "      <th>50-54</th>\n",
       "      <td>174</td>\n",
       "      <td>3673</td>\n",
       "      <td>4.737272</td>\n",
       "    </tr>\n",
       "    <tr>\n",
       "      <th>55-59</th>\n",
       "      <td>147</td>\n",
       "      <td>3490</td>\n",
       "      <td>4.212034</td>\n",
       "    </tr>\n",
       "    <tr>\n",
       "      <th>60-64</th>\n",
       "      <td>113</td>\n",
       "      <td>3162</td>\n",
       "      <td>3.573688</td>\n",
       "    </tr>\n",
       "    <tr>\n",
       "      <th>64-69</th>\n",
       "      <td>101</td>\n",
       "      <td>4779</td>\n",
       "      <td>2.113413</td>\n",
       "    </tr>\n",
       "    <tr>\n",
       "      <th>70-74</th>\n",
       "      <td>77</td>\n",
       "      <td>3024</td>\n",
       "      <td>2.546296</td>\n",
       "    </tr>\n",
       "    <tr>\n",
       "      <th>75+</th>\n",
       "      <td>27</td>\n",
       "      <td>1416</td>\n",
       "      <td>1.906780</td>\n",
       "    </tr>\n",
       "  </tbody>\n",
       "</table>\n",
       "</div>"
      ],
      "text/plain": [
       "         Used Mobile Applications  Total Users  Percentage\n",
       "AGE_MAP                                                   \n",
       "18-24                         317         3648    8.689693\n",
       "25-29                         205         2379    8.617066\n",
       "30-34                         234         3165    7.393365\n",
       "35-39                         269         4139    6.499154\n",
       "40-44                         225         3312    6.793478\n",
       "45-49                         202         3579    5.644035\n",
       "50-54                         174         3673    4.737272\n",
       "55-59                         147         3490    4.212034\n",
       "60-64                         113         3162    3.573688\n",
       "64-69                         101         4779    2.113413\n",
       "70-74                          77         3024    2.546296\n",
       "75+                            27         1416    1.906780"
      ]
     },
     "execution_count": 300,
     "metadata": {},
     "output_type": "execute_result"
    }
   ],
   "source": [
    "df_mobile_per_age = pd.concat([df_mobile['AGE_MAP'].value_counts(), df[\"AGE_MAP\"].value_counts()], axis=1)\n",
    "df_mobile_per_age.columns = ['Used Mobile Applications', 'Total Users']\n",
    "df_mobile_per_age['Percentage'] = (df_mobile_per_age['Used Mobile Applications'] / df_mobile_per_age['Total Users']) * 100\n",
    "df_mobile_per_age.sort_index()"
   ]
  },
  {
   "cell_type": "code",
   "execution_count": 301,
   "id": "9b678c5b-ad8f-409e-8cae-be0e318c9fb3",
   "metadata": {},
   "outputs": [
    {
     "data": {
      "text/plain": [
       "AGE_MAP\n",
       "18-24    9.208633\n",
       "25-29    8.169440\n",
       "30-34    7.142857\n",
       "35-39    5.547720\n",
       "40-44    6.100342\n",
       "45-49    5.005382\n",
       "50-54    4.594017\n",
       "55-59    3.863135\n",
       "60-64    3.828683\n",
       "64-69    2.233251\n",
       "70-74    2.205376\n",
       "75+      1.757188\n",
       "Name: Percentage women, dtype: float64"
      ]
     },
     "execution_count": 301,
     "metadata": {},
     "output_type": "execute_result"
    }
   ],
   "source": [
    "df_mobile_per_age = pd.concat([df_mobile[df_mobile['D1'] == 1]['AGE_MAP'].value_counts(),df_mobile[df_mobile['D1'] == 2]['AGE_MAP'].value_counts(), df[df['D1'] == 1][\"AGE_MAP\"].value_counts(), df[df['D1'] == 2][\"AGE_MAP\"].value_counts()], axis=1)\n",
    "df_mobile_per_age.columns = ['Used Mobile Applications men','Used Mobile Applications women' , 'Total men', 'Total women']\n",
    "df_mobile_per_age['Percentage men'] = (df_mobile_per_age['Used Mobile Applications men'] / df_mobile_per_age['Total men']) * 100\n",
    "df_mobile_per_age['Percentage women'] = (df_mobile_per_age['Used Mobile Applications women'] / df_mobile_per_age['Total women']) * 100\n",
    "df_mobile_per_age['Percentage women'].sort_index()"
   ]
  },
  {
   "cell_type": "code",
   "execution_count": 302,
   "id": "194102e2-e0ad-4f83-b0f7-8ba8463aa68f",
   "metadata": {},
   "outputs": [
    {
     "data": {
      "text/plain": [
       "<Axes: xlabel='AGE_MAP'>"
      ]
     },
     "execution_count": 302,
     "metadata": {},
     "output_type": "execute_result"
    },
    {
     "data": {
      "image/png": "[encoded data removed]",
      "text/plain": [
       "<Figure size 640x480 with 1 Axes>"
      ]
     },
     "metadata": {},
     "output_type": "display_data"
    }
   ],
   "source": [
    "df_mobile_per_age.plot.bar()"
   ]
  },
  {
   "cell_type": "markdown",
   "id": "af962a5d-76c7-47fa-b426-67aff9194ebb",
   "metadata": {},
   "source": [
    "Market opportunities of people wanting to use Mobile Applications per Age.\n",
    "The younger the higher the market for Mobile Applications methods of payments."
   ]
  },
  {
   "cell_type": "code",
   "execution_count": 303,
   "id": "ff227f39-1264-40dd-be58-3a992341acce",
   "metadata": {},
   "outputs": [
    {
     "data": {
      "text/html": [
       "<div>\n",
       "<style scoped>\n",
       "    .dataframe tbody tr th:only-of-type {\n",
       "        vertical-align: middle;\n",
       "    }\n",
       "\n",
       "    .dataframe tbody tr th {\n",
       "        vertical-align: top;\n",
       "    }\n",
       "\n",
       "    .dataframe thead th {\n",
       "        text-align: right;\n",
       "    }\n",
       "</style>\n",
       "<table border=\"1\" class=\"dataframe\">\n",
       "  <thead>\n",
       "    <tr style=\"text-align: right;\">\n",
       "      <th></th>\n",
       "      <th>Used Mobile Applications</th>\n",
       "      <th>Total Users</th>\n",
       "      <th>Percentage</th>\n",
       "    </tr>\n",
       "    <tr>\n",
       "      <th>EDUCATION_MAP</th>\n",
       "      <th></th>\n",
       "      <th></th>\n",
       "      <th></th>\n",
       "    </tr>\n",
       "  </thead>\n",
       "  <tbody>\n",
       "    <tr>\n",
       "      <th>Refusal / No answer</th>\n",
       "      <td>1</td>\n",
       "      <td>8</td>\n",
       "      <td>12.500000</td>\n",
       "    </tr>\n",
       "    <tr>\n",
       "      <th>Primary/lower secondary education</th>\n",
       "      <td>264</td>\n",
       "      <td>7001</td>\n",
       "      <td>3.770890</td>\n",
       "    </tr>\n",
       "    <tr>\n",
       "      <th>Upper/post-secondary education</th>\n",
       "      <td>876</td>\n",
       "      <td>17609</td>\n",
       "      <td>4.974729</td>\n",
       "    </tr>\n",
       "    <tr>\n",
       "      <th>University/PhD/research</th>\n",
       "      <td>950</td>\n",
       "      <td>15148</td>\n",
       "      <td>6.271455</td>\n",
       "    </tr>\n",
       "  </tbody>\n",
       "</table>\n",
       "</div>"
      ],
      "text/plain": [
       "                                   Used Mobile Applications  Total Users  \\\n",
       "EDUCATION_MAP                                                              \n",
       "Refusal / No answer                                       1            8   \n",
       "Primary/lower secondary education                       264         7001   \n",
       "Upper/post-secondary education                          876        17609   \n",
       "University/PhD/research                                 950        15148   \n",
       "\n",
       "                                   Percentage  \n",
       "EDUCATION_MAP                                  \n",
       "Refusal / No answer                 12.500000  \n",
       "Primary/lower secondary education    3.770890  \n",
       "Upper/post-secondary education       4.974729  \n",
       "University/PhD/research              6.271455  "
      ]
     },
     "execution_count": 303,
     "metadata": {},
     "output_type": "execute_result"
    }
   ],
   "source": [
    "education_map = {1: \"Primary/lower secondary education\",\n",
    "    2: \"Upper/post-secondary education\",\n",
    "    3: \"University/PhD/research\",\n",
    "    999998: \"Refusal / No answer\"}\n",
    "\n",
    "df_mobile['EDUCATION_MAP'] = df_mobile['EDUCATION'].replace(education_map)\n",
    "df['EDUCATION_MAP'] = df['EDUCATION'].replace(education_map)\n",
    "\n",
    "df_mobile_per_education = pd.concat([df_mobile['EDUCATION_MAP'].value_counts(), df[\"EDUCATION_MAP\"].value_counts()], axis=1)\n",
    "df_mobile_per_education.columns = ['Used Mobile Applications', 'Total Users']\n",
    "\n",
    "df_mobile_per_education['Percentage'] = (df_mobile_per_education['Used Mobile Applications'] / df_mobile_per_education['Total Users']) * 100\n",
    "df_mobile_per_education.sort_values('Used Mobile Applications')"
   ]
  },
  {
   "cell_type": "code",
   "execution_count": 304,
   "id": "fdafbf0b-4e73-4f59-84ca-cc8c285c8e0e",
   "metadata": {},
   "outputs": [
    {
     "data": {
      "text/html": [
       "<div>\n",
       "<style scoped>\n",
       "    .dataframe tbody tr th:only-of-type {\n",
       "        vertical-align: middle;\n",
       "    }\n",
       "\n",
       "    .dataframe tbody tr th {\n",
       "        vertical-align: top;\n",
       "    }\n",
       "\n",
       "    .dataframe thead th {\n",
       "        text-align: right;\n",
       "    }\n",
       "</style>\n",
       "<table border=\"1\" class=\"dataframe\">\n",
       "  <thead>\n",
       "    <tr style=\"text-align: right;\">\n",
       "      <th></th>\n",
       "      <th>Want to use Mobile Applications</th>\n",
       "      <th>Total Users</th>\n",
       "      <th>Percentage</th>\n",
       "    </tr>\n",
       "    <tr>\n",
       "      <th>EDUCATION_MAP</th>\n",
       "      <th></th>\n",
       "      <th></th>\n",
       "      <th></th>\n",
       "    </tr>\n",
       "  </thead>\n",
       "  <tbody>\n",
       "    <tr>\n",
       "      <th>Refusal / No answer</th>\n",
       "      <td>1</td>\n",
       "      <td>8</td>\n",
       "      <td>12.500000</td>\n",
       "    </tr>\n",
       "    <tr>\n",
       "      <th>Primary/lower secondary education</th>\n",
       "      <td>656</td>\n",
       "      <td>7001</td>\n",
       "      <td>9.370090</td>\n",
       "    </tr>\n",
       "    <tr>\n",
       "      <th>University/PhD/research</th>\n",
       "      <td>1598</td>\n",
       "      <td>15148</td>\n",
       "      <td>10.549247</td>\n",
       "    </tr>\n",
       "    <tr>\n",
       "      <th>Upper/post-secondary education</th>\n",
       "      <td>1652</td>\n",
       "      <td>17609</td>\n",
       "      <td>9.381566</td>\n",
       "    </tr>\n",
       "  </tbody>\n",
       "</table>\n",
       "</div>"
      ],
      "text/plain": [
       "                                   Want to use Mobile Applications  \\\n",
       "EDUCATION_MAP                                                        \n",
       "Refusal / No answer                                              1   \n",
       "Primary/lower secondary education                              656   \n",
       "University/PhD/research                                       1598   \n",
       "Upper/post-secondary education                                1652   \n",
       "\n",
       "                                   Total Users  Percentage  \n",
       "EDUCATION_MAP                                               \n",
       "Refusal / No answer                          8   12.500000  \n",
       "Primary/lower secondary education         7001    9.370090  \n",
       "University/PhD/research                  15148   10.549247  \n",
       "Upper/post-secondary education           17609    9.381566  "
      ]
     },
     "execution_count": 304,
     "metadata": {},
     "output_type": "execute_result"
    }
   ],
   "source": [
    "df_mobile_per_education = pd.concat([df[df['QQ3A'] == \"Mobile payments (including wearables like smartwatches)\"]['EDUCATION_MAP'].value_counts(), df[\"EDUCATION_MAP\"].value_counts()], axis=1)\n",
    "df_mobile_per_education.columns = ['Want to use Mobile Applications', 'Total Users']\n",
    "\n",
    "df_mobile_per_education['Percentage'] = (df_mobile_per_education['Want to use Mobile Applications'] / df_mobile_per_education['Total Users']) * 100\n",
    "df_mobile_per_education.sort_values('Want to use Mobile Applications')"
   ]
  }
 ],
 "metadata": {
  "kernelspec": {
   "display_name": "Python 3 (ipykernel)",
   "language": "python",
   "name": "python3"
  },
  "language_info": {
   "codemirror_mode": {
    "name": "ipython",
    "version": 3
   },
   "file_extension": ".py",
   "mimetype": "text/x-python",
   "name": "python",
   "nbconvert_exporter": "python",
   "pygments_lexer": "ipython3",
   "version": "3.12.4"
  }
 },
 "nbformat": 4,
 "nbformat_minor": 5
}
